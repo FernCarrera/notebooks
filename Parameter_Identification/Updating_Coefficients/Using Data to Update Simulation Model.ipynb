{
 "cells": [
  {
   "cell_type": "markdown",
   "metadata": {},
   "source": [
    "Use flight test data to update the Cl_r and Cn_beta aerodynamic coefficients in the simulation model so it can better match the real life flight.\n",
    "\n",
    "Objective Function:\n",
    "https://en.wikipedia.org/wiki/Residual_sum_of_squares"
   ]
  },
  {
   "cell_type": "code",
   "execution_count": 1,
   "metadata": {},
   "outputs": [],
   "source": [
    "import math\n",
    "import matplotlib.pyplot as plt\n",
    "import matplotlib\n",
    "import csv"
   ]
  },
  {
   "cell_type": "code",
   "execution_count": 87,
   "metadata": {},
   "outputs": [],
   "source": [
    "# Read in the flight data\n",
    "time_data = []\n",
    "rudder_data = []\n",
    "yaw_data = []\n",
    "\n",
    "with open('data.csv',newline='') as file:\n",
    "    data_reader = csv.reader(file,delimiter='\\t')\n",
    "    for col in data_reader:\n",
    "        time_data.append(col[0])\n",
    "        rudder_data.append(col[1])\n",
    "        yaw_data.append(col[2])\n",
    "\n",
    "# popping labels out\n",
    "time_data.pop(0)\n",
    "rudder_data.pop(0)\n",
    "yaw_data.pop(0)\n",
    "time_data = [float(x) for x in time_data]\n",
    "rudder_data = [float(x) for x in rudder_data]\n",
    "yaw_data = [float(x) for x in yaw_data]"
   ]
  },
  {
   "cell_type": "code",
   "execution_count": 67,
   "metadata": {},
   "outputs": [],
   "source": [
    "# Vehicle Geometry\n",
    "S = 24 # Wing area, [m^2]\n",
    "b = 8.4 # Wing span [m]\n",
    "m = 7900 # mass [kg]\n",
    "Ixx = 10970 # moments of intertia [kg.m^2]\n",
    "Izz = 39600\n",
    "Ixz = 1760\n",
    "c0 = 1.0/(Ixx*Izz - Ixz**2)\n",
    "c3 = c0*Izz\n",
    "c4 = c0*Ixz\n",
    "c10 = c0*Ixx"
   ]
  },
  {
   "cell_type": "code",
   "execution_count": 68,
   "metadata": {},
   "outputs": [],
   "source": [
    "# Flight Conditions\n",
    "g = 9.81 # gravity [m/s^2]\n",
    "v = 190 # airspeed [m/s]\n",
    "rho = 0.77 # density [kg/m^3]\n",
    "qbar = 0.5*rho*v**2 # dynamic pressure [N/m^2]"
   ]
  },
  {
   "cell_type": "code",
   "execution_count": 69,
   "metadata": {},
   "outputs": [],
   "source": [
    "# Aerodynamic Coefficients\n",
    "Cyb, Cydr = -1.0, 0.17\n",
    "Clb, Clp, Clr, Cldr = -0.13, -0.25, 0.16, 0.04\n",
    "Cnv, Cnp, Cnr, Cndr = 0.26, 0.025, -0.37, -0.11"
   ]
  },
  {
   "cell_type": "code",
   "execution_count": 70,
   "metadata": {},
   "outputs": [],
   "source": [
    "# Equations of Motion\n",
    "def EOM(x):\n",
    "    beta = x[0] # sideslip [rad]\n",
    "    p = x[1] # roll rate   [rad/s]\n",
    "    r = x[2] # yaw rate [rad/s]\n",
    "    phi = x[3] # roll angle [rad]\n",
    "    psi = x[4] # heading angle [rad]\n",
    "    rud = x[5] # rudder angle [rad]\n",
    "    \n",
    "    pn = 0.5*p*b/v # normalized roll rate [rad]\n",
    "    rn = 0.5*r*b/v # normalized yaw rate [rad]\n",
    "    \n",
    "    Cy = Cyb*beta + Cydr*rud\n",
    "    Cl = Clb*beta + Clp*pn + Clr*rn + Cldr*rud\n",
    "    Cn = Cnb*beta + Cnp*pn + Cnr*rn + Cndr*rud\n",
    "    \n",
    "    Fy = qbar*S*Cy\n",
    "    L = qbar*S*b*Cl\n",
    "    N = qbar*S*b*Cn\n",
    "    \n",
    "    dbeta = (Fy/m + g*math.sin(phi))/v - r\n",
    "    dp = c3*L + c4*N\n",
    "    dr = c4*L + c10*N\n",
    "    dphi = p\n",
    "    \n",
    "    dpsi = r*math.cos(phi)\n",
    "    \n",
    "    dxdt = []\n",
    "    dxdt.append(dbeta)\n",
    "    dxdt.append(dp)\n",
    "    dxdt.append(dr)\n",
    "    dxdt.append(dphi)\n",
    "    dxdt.append(dpsi)\n",
    "    dxdt.append(0.0) # constant rudder\n",
    "    \n",
    "    return dxdt"
   ]
  },
  {
   "cell_type": "code",
   "execution_count": 71,
   "metadata": {},
   "outputs": [],
   "source": [
    "# 4th order Runge-kutta\n",
    "def rk45(x):\n",
    "    size = len(x)\n",
    "    rn = []\n",
    "    for i in range(size):\n",
    "        rn.append(x[i])\n",
    "    r1 = EOM(rn)\n",
    "    for i in range(size):\n",
    "        rn[i] = x[i]+0.5*dt*r1[i]\n",
    "    r2 = EOM(rn)\n",
    "    for i in range(size):\n",
    "         rn[i] = x[i]+0.5*dt*r2[i]\n",
    "    r3 = EOM(rn)\n",
    "    for i in range(size):\n",
    "        rn[i] = x[i]+dt*r3[i]\n",
    "    r4 = EOM(rn)\n",
    "    for i in range(size):\n",
    "        rn[i] = x[i] + (dt/6.0)*(r1[i]+2*r2[i]+2*r3[i]+r4[i])\n",
    "        \n",
    "    return rn"
   ]
  },
  {
   "cell_type": "code",
   "execution_count": 72,
   "metadata": {},
   "outputs": [],
   "source": [
    "# Calculate time step from the data\n",
    "dt = time_data[1] - time_data[0]\n",
    "dt = dt/5.0 # integrate 5 times between data points\n"
   ]
  },
  {
   "cell_type": "code",
   "execution_count": 86,
   "metadata": {},
   "outputs": [],
   "source": [
    "# find best parameters\n",
    "min_error = 10000\n",
    "Clr_min = 0.0\n",
    "Cnb_min = 0.0\n",
    "\n",
    "# Guess the range of Clr and Cnb and increase by tenths \n",
    "# calculate the error then use the rudder data to propagate\n",
    "# the model and see how yaw data changes\n",
    "for Clri in range(1,20):\n",
    "    Clr = 0.01*float(Clri)\n",
    "    for Cnbi in range(1,30):\n",
    "        Cnb = 0.01*float(Cnbi)\n",
    "        y_error = 0.0\n",
    "        x = [0.0]*6\n",
    "        \n",
    "        for j in range(len(time_data)):\n",
    "            yaw_sim = x[2]*180/math.pi\n",
    "            # objective function\n",
    "            y_error += (yaw_data[j]-yaw_sim)**2\n",
    "            x[5] = (math.pi/180)*rudder_data[j]\n",
    "            \n",
    "            for i in range(5):\n",
    "                x = rk45(x)\n",
    "                \n",
    "        if (y_error < min_error):\n",
    "            min_error = y_error\n",
    "            Clr_min = Clr\n",
    "            Cnb_min = Cnb"
   ]
  },
  {
   "cell_type": "code",
   "execution_count": 83,
   "metadata": {},
   "outputs": [
    {
     "name": "stdout",
     "output_type": "stream",
     "text": [
      "obj Function: 20.865577989072165\n",
      "Clr: 0.19\n",
      "Cnb 0.1\n"
     ]
    }
   ],
   "source": [
    "print('obj Function:',min_error)\n",
    "print('Clr:',Clr)\n",
    "print('Cnb',Cnb_min)"
   ]
  },
  {
   "cell_type": "code",
   "execution_count": 85,
   "metadata": {},
   "outputs": [
    {
     "data": {
      "image/png": "[encoded data removed]",
      "text/plain": [
       "<Figure size 432x288 with 1 Axes>"
      ]
     },
     "metadata": {
      "needs_background": "light"
     },
     "output_type": "display_data"
    }
   ],
   "source": [
    "# Plotting\n",
    "x = [0.0]*6\n",
    "Clr = Clr_min\n",
    "Cnb = Cnb_min\n",
    "\n",
    "yrates = []\n",
    "times = []\n",
    "\n",
    "time = time_data[0]\n",
    "for j in range(len(time_data)):\n",
    "    yaw_sim = x[2]*180/math.pi\n",
    "    yrates.append(yaw_sim)\n",
    "    times.append(time)\n",
    "    \n",
    "    x[5] = (math.pi/180)*rudder_data[j]\n",
    "    \n",
    "    for i in range(5):\n",
    "        x = rk45(x)\n",
    "        time += dt\n",
    "        \n",
    "plt.plot(times,yrates,label='sim')\n",
    "plt.plot(time_data,yaw_data,label='real')\n",
    "plt.legend()\n",
    "plt.xlabel('time (sec)')\n",
    "plt.ylabel('yaw rate (deg/s)')\n",
    "plt.show()"
   ]
  },
  {
   "cell_type": "code",
   "execution_count": null,
   "metadata": {},
   "outputs": [],
   "source": []
  }
 ],
 "metadata": {
  "kernelspec": {
   "display_name": "Python 3",
   "language": "python",
   "name": "python3"
  },
  "language_info": {
   "codemirror_mode": {
    "name": "ipython",
    "version": 3
   },
   "file_extension": ".py",
   "mimetype": "text/x-python",
   "name": "python",
   "nbconvert_exporter": "python",
   "pygments_lexer": "ipython3",
   "version": "3.7.4"
  }
 },
 "nbformat": 4,
 "nbformat_minor": 2
}
