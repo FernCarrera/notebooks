{
 "cells": [
  {
   "cell_type": "markdown",
   "metadata": {},
   "source": [
    "## Monte Carlo Integration"
   ]
  },
  {
   "cell_type": "code",
   "execution_count": 58,
   "metadata": {},
   "outputs": [],
   "source": [
    "from sympy import symbols,integrate\n",
    "import numpy as np\n",
    "import math\n",
    "import random\n",
    "from matplotlib import pyplot as plt \n",
    "from IPython.display import clear_output"
   ]
  },
  {
   "cell_type": "code",
   "execution_count": 25,
   "metadata": {},
   "outputs": [],
   "source": [
    "#e,x = symbols('e x')\n",
    "#eq = (e**-x)/(1 + (x-1)**2)\n",
    "#eq # equation to integrate"
   ]
  },
  {
   "cell_type": "markdown",
   "metadata": {},
   "source": [
    "### Crude Solution"
   ]
  },
  {
   "cell_type": "code",
   "execution_count": 33,
   "metadata": {},
   "outputs": [
    {
     "data": {
      "text/plain": [
       "0.6722199772528376"
      ]
     },
     "execution_count": 33,
     "metadata": {},
     "output_type": "execute_result"
    }
   ],
   "source": [
    "PI = 3.1415926\n",
    "e = 2.71828\n",
    "\n",
    "def get_rand_number(_min,_max):\n",
    "    \"\"\" generate uniform distribuition\"\"\"\n",
    "    _range = _max - _min\n",
    "    rand = random.uniform(0,1)\n",
    "    return _min + _range*rand\n",
    "\n",
    "def function(x):\n",
    "    \"\"\"function to integrate over\"\"\"\n",
    "    return (e**(-1*x))/(1+(x-1)**2)\n",
    "\n",
    "\n",
    "def solve_mc(num_samples = 5000, bounds = (0,5)):\n",
    "    \"\"\"approx integral for a specified numbers\n",
    "    of samples\n",
    "    bound 0 -5 is sufficient because eq approaches 0 close to PI\n",
    "    \"\"\"\n",
    "    lower = bounds[0]\n",
    "    upper = bounds[1]\n",
    "    \n",
    "    sum_of_samples = 0\n",
    "    \n",
    "    for _ in range(num_samples):\n",
    "        x = get_rand_number(lower,upper)\n",
    "        sum_of_samples += function(x)\n",
    "        \n",
    "    return (upper-lower)*float(sum_of_samples/num_samples)\n",
    "    \n",
    "solve_mc(num_samples=10000)"
   ]
  },
  {
   "cell_type": "markdown",
   "metadata": {},
   "source": [
    "### Determine confidence in estimation\n",
    "\n",
    "To determine confidence we can quantify accuracy by studying the variance of the estimation"
   ]
  },
  {
   "cell_type": "code",
   "execution_count": 45,
   "metadata": {},
   "outputs": [
    {
     "name": "stdout",
     "output_type": "stream",
     "text": [
      "Variance 0.266019532725026\n"
     ]
    }
   ],
   "source": [
    "def crude_mc_variance(num_samples = 10000,int_max = 5):\n",
    "    \"\"\"returns the variance for crude mc estimate\n",
    "        arg:\n",
    "            int_max - max of integration range\n",
    "    \n",
    "    \"\"\"\n",
    "    \n",
    "    # get the average of the squares\n",
    "    total = 0\n",
    "    for _ in range(num_samples):\n",
    "        x = get_rand_number(0,int_max)\n",
    "        total += function(x)**2\n",
    "    sum_of_squares = total*int_max / num_samples\n",
    "    \n",
    "    # get square of the average\n",
    "    total = 0\n",
    "    for _ in range(num_samples):\n",
    "        x = get_rand_number(0,int_max)\n",
    "        total = function(x)\n",
    "    sq_average = (int_max*total/num_samples)**2\n",
    "    \n",
    "    return sum_of_squares - sq_average\n",
    "\n",
    "print('Variance',crude_mc_variance())\n"
   ]
  },
  {
   "cell_type": "markdown",
   "metadata": {},
   "source": [
    "How to increase accuracy (reduce variance) without increasing the number of samples?"
   ]
  },
  {
   "cell_type": "markdown",
   "metadata": {},
   "source": [
    "### Importance Sampling"
   ]
  },
  {
   "cell_type": "code",
   "execution_count": 56,
   "metadata": {},
   "outputs": [
    {
     "data": {
      "image/png": "[encoded data removed]",
      "text/plain": [
       "<Figure size 432x288 with 1 Axes>"
      ]
     },
     "metadata": {
      "needs_background": "light"
     },
     "output_type": "display_data"
    }
   ],
   "source": [
    "xs = [float(i/50) for i in range(int(50*PI*2))]\n",
    "ys = [function(x) for x in xs]\n",
    "plt.plot(xs,ys)\n",
    "plt.title(\"f(x)\");"
   ]
  },
  {
   "cell_type": "markdown",
   "metadata": {},
   "source": [
    "We can see that the function is mostly active in the rough range of [0,3] and is mostly inactive in the range of [3,inf]. Let's see if we can find a function template that can be parameterized to replicate this quality."
   ]
  },
  {
   "cell_type": "code",
   "execution_count": 59,
   "metadata": {},
   "outputs": [
    {
     "name": "stdout",
     "output_type": "stream",
     "text": [
      "Optimal Lambda: 1.6\n",
      "Optimal Variance: 0.045085996202639755\n",
      "Error: 0.0021233463260297352\n"
     ]
    }
   ],
   "source": [
    "# this is the template of our weight function g(x)\n",
    "def g_of_x(x, A, lamda):\n",
    "    e = 2.71828\n",
    "    return A*math.pow(e, -1*lamda*x)\n",
    "\n",
    "def inverse_G_of_r(r, lamda):\n",
    "    return (-1 * math.log(float(r)))/lamda\n",
    "\n",
    "def get_IS_variance(lamda, num_samples):\n",
    "    \"\"\"\n",
    "    This function calculates the variance if a Monte Carlo\n",
    "    using importance sampling.\n",
    "    Args:\n",
    "    - lamda (float) : lamdba value of g(x) being tested\n",
    "    Return: \n",
    "    - Variance\n",
    "    \"\"\"\n",
    "    A = lamda\n",
    "    int_max = 5\n",
    "    \n",
    "    # get sum of squares\n",
    "    running_total = 0\n",
    "    for i in range(num_samples):\n",
    "        x = get_rand_number(0, int_max)\n",
    "        running_total += (function(x)/g_of_x(x, A, lamda))**2\n",
    "    \n",
    "    sum_of_sqs = running_total / num_samples\n",
    "    \n",
    "    # get squared average\n",
    "    running_total = 0\n",
    "    for i in range(num_samples):\n",
    "        x = get_rand_number(0, int_max)\n",
    "        running_total += function(x)/g_of_x(x, A, lamda)\n",
    "    sq_ave = (running_total/num_samples)**2\n",
    "    \n",
    "    \n",
    "    return sum_of_sqs - sq_ave\n",
    "\n",
    "# get variance as a function of lambda by testing many\n",
    "# different lambdas\n",
    "\n",
    "test_lamdas = [i*0.05 for i in range(1, 61)]\n",
    "variances = []\n",
    "\n",
    "for i, lamda in enumerate(test_lamdas):\n",
    "    print(f\"lambda {i+1}/{len(test_lamdas)}: {lamda}\")\n",
    "    A = lamda\n",
    "    variances.append(get_IS_variance(lamda, 10000))\n",
    "    clear_output(wait=True)\n",
    "    \n",
    "optimal_lamda = test_lamdas[np.argmin(np.asarray(variances))]\n",
    "IS_variance = variances[np.argmin(np.asarray(variances))]\n",
    "\n",
    "print(f\"Optimal Lambda: {optimal_lamda}\")\n",
    "print(f\"Optimal Variance: {IS_variance}\")\n",
    "print(f\"Error: {(IS_variance/10000)**0.5}\")"
   ]
  },
  {
   "cell_type": "code",
   "execution_count": 60,
   "metadata": {},
   "outputs": [
    {
     "name": "stdout",
     "output_type": "stream",
     "text": [
      "Importance Sampling Approximation: 0.6952774106850161\n",
      "Variance: 0.044888006976259165\n",
      "Error: 0.002118678998250069\n"
     ]
    }
   ],
   "source": [
    "def importance_sampling_MC(lamda, num_samples):\n",
    "    A = lamda\n",
    "    \n",
    "    running_total = 0\n",
    "    for i in range(num_samples):\n",
    "        r = get_rand_number(0,1)\n",
    "        running_total += function(inverse_G_of_r(r, lamda=lamda))/g_of_x(inverse_G_of_r(r, lamda=lamda), A, lamda)\n",
    "    approximation = float(running_total/num_samples)\n",
    "    return approximation\n",
    "\n",
    "# run simulation\n",
    "num_samples = 10000\n",
    "approx = importance_sampling_MC(optimal_lamda, num_samples)\n",
    "variance = get_IS_variance(optimal_lamda, num_samples)\n",
    "error = (variance/num_samples)**0.5\n",
    "\n",
    "# display results\n",
    "print(f\"Importance Sampling Approximation: {approx}\")\n",
    "print(f\"Variance: {variance}\")\n",
    "print(f\"Error: {error}\")"
   ]
  },
  {
   "cell_type": "code",
   "execution_count": null,
   "metadata": {},
   "outputs": [],
   "source": []
  }
 ],
 "metadata": {
  "kernelspec": {
   "display_name": "Python 3",
   "language": "python",
   "name": "python3"
  },
  "language_info": {
   "codemirror_mode": {
    "name": "ipython",
    "version": 3
   },
   "file_extension": ".py",
   "mimetype": "text/x-python",
   "name": "python",
   "nbconvert_exporter": "python",
   "pygments_lexer": "ipython3",
   "version": "3.7.4"
  }
 },
 "nbformat": 4,
 "nbformat_minor": 2
}
