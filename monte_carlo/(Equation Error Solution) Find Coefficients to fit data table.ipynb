{
 "cells": [
  {
   "cell_type": "code",
   "execution_count": 2,
   "metadata": {},
   "outputs": [],
   "source": [
    "import matplotlib.pyplot as plt\n",
    "import numpy as np\n",
    "import math\n",
    "import csv\n",
    "from mpl_toolkits.mplot3d import Axes3D"
   ]
  },
  {
   "cell_type": "code",
   "execution_count": 14,
   "metadata": {},
   "outputs": [],
   "source": [
    "# read from the csv file\n",
    "# reads first row then stacks the rest under it\n",
    "with open('data_table.csv',newline='') as csvfile:\n",
    "    dat_reader = csv.reader(csvfile)\n",
    "    first_row = True\n",
    "    for row in dat_reader:\n",
    "        dat_row = np.fromiter(row,float)\n",
    "        if first_row:\n",
    "            dd = np.array(dat_row)\n",
    "            first_row = False\n",
    "        else:\n",
    "            dd = np.vstack((dd,dat_row))"
   ]
  },
  {
   "cell_type": "code",
   "execution_count": 15,
   "metadata": {},
   "outputs": [],
   "source": [
    "# create independent variables of the table\n",
    "# (the outside values of the data table)\n",
    "d2r = math.pi/180\n",
    "alpha = (d2r)*np.arange(-10,50,5)\n",
    "beta = (d2r)*np.arange(-20,25,5)"
   ]
  },
  {
   "cell_type": "code",
   "execution_count": 25,
   "metadata": {},
   "outputs": [
    {
     "name": "stdout",
     "output_type": "stream",
     "text": [
      "a0-[0.29998921]\n",
      "a1-[-2.10789743]\n",
      "a2-[2.14118878]\n",
      "a3-[0.84744983]\n"
     ]
    }
   ],
   "source": [
    "# set up the problem\n",
    "dd.resize((alpha.size*beta.size,1))\n",
    "X = np.empty((alpha.size*beta.size,4))\n",
    "\n",
    "# fill out solution to array\n",
    "i = 0\n",
    "for a in alpha:\n",
    "    for b in beta:\n",
    "        X[i] = np.array([b,(a**2)*b,(a**2)*(b**2),(a**3)*b])\n",
    "        i += 1\n",
    "        \n",
    "# solve for coefficients using pseudo inverse and matmul dd\n",
    "aa = np.linalg.pinv(X) @ dd\n",
    "for i,val in enumerate(aa):\n",
    "    print('a{}-{}'.format(i,val))"
   ]
  },
  {
   "cell_type": "code",
   "execution_count": null,
   "metadata": {},
   "outputs": [],
   "source": []
  },
  {
   "cell_type": "code",
   "execution_count": null,
   "metadata": {},
   "outputs": [],
   "source": []
  }
 ],
 "metadata": {
  "kernelspec": {
   "display_name": "Python 3",
   "language": "python",
   "name": "python3"
  },
  "language_info": {
   "codemirror_mode": {
    "name": "ipython",
    "version": 3
   },
   "file_extension": ".py",
   "mimetype": "text/x-python",
   "name": "python",
   "nbconvert_exporter": "python",
   "pygments_lexer": "ipython3",
   "version": "3.7.4"
  }
 },
 "nbformat": 4,
 "nbformat_minor": 2
}
