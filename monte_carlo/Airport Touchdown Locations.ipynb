{
 "cells": [
  {
   "cell_type": "markdown",
   "metadata": {},
   "source": [
    "### Build MC simulation to estimate touchdown location of planes landing at Montgomery field.\n",
    "- 3dof equations of motion\n",
    "- const airspeed of 140 ft/s\n",
    "- const vertical flight path of -3.0 deg\n",
    "- 1,000 trials\n",
    "- trials start 4nmi from touch down point\n",
    "- winds are constant but selected randomly\n",
    "    - mean: 0, std: 0.1 ft/s\n",
    "    "
   ]
  },
  {
   "cell_type": "code",
   "execution_count": 1,
   "metadata": {},
   "outputs": [],
   "source": [
    "import random\n",
    "import math\n",
    "import matplotlib.pyplot as plt"
   ]
  },
  {
   "cell_type": "code",
   "execution_count": 2,
   "metadata": {},
   "outputs": [],
   "source": [
    "d2r = math.pi/180\n",
    "\n",
    "v = 140 # ft/s, airspeed\n",
    "start_dist = 4.0*6076.0 # ft\n",
    "f_path = -3.0*d2r # vertical flight path angle [rad]\n",
    "heading = -76.8*d2r # horizontal flight path angle [rad]\n",
    "wind_std = 0.1 # wind std deviation ft/s\n",
    "dt = 0.1 # time step [s]\n",
    "\n",
    "start_alt = start_dist*math.tan(-f_path)\n",
    "start_north = -start_dist*math.cos(heading)\n",
    "start_east = -start_dist*math.sin(heading)\n",
    "\n",
    "# touch down locations\n",
    "east_td = []\n",
    "north_td = []\n"
   ]
  },
  {
   "cell_type": "code",
   "execution_count": 6,
   "metadata": {},
   "outputs": [],
   "source": [
    "\n",
    "# for 1000 samples, simulate fligtht until touch down\n",
    "for _ in range(1000):\n",
    "    east = start_east\n",
    "    north = start_north\n",
    "    alt = start_alt\n",
    "    Wn = random.gauss(0,wind_std)\n",
    "    We = random.gauss(0,wind_std)\n",
    "    Wu = random.gauss(0,wind_std)\n",
    "    \n",
    "    # 3dof position equations\n",
    "    while alt > 0 :\n",
    "        dndt = v*math.cos(f_path)*math.cos(heading) + Wn\n",
    "        dedt = v*math.cos(f_path)*math.sin(heading) + We\n",
    "        dhdt = v*math.sin(f_path) + Wu\n",
    "        north += dt*dndt\n",
    "        east += dt*dedt\n",
    "        alt += dt*dhdt\n",
    "        \n",
    "        \n",
    "    east_td.append(east)\n",
    "    north_td.append(north)"
   ]
  },
  {
   "cell_type": "code",
   "execution_count": 8,
   "metadata": {},
   "outputs": [
    {
     "data": {
      "image/png": "[encoded data removed]",
      "text/plain": [
       "<Figure size 432x288 with 1 Axes>"
      ]
     },
     "metadata": {
      "needs_background": "light"
     },
     "output_type": "display_data"
    }
   ],
   "source": [
    "# draw runway\n",
    "run_x = (3600,3600,-1000,-1000,3600)\n",
    "run_y = (75,-75,-75,75,75)\n",
    "\n",
    "# rotate runway\n",
    "run_east = []\n",
    "run_north = []\n",
    "for k in range(len(run_x)):\n",
    "    run_north.append(run_x[k]*math.cos(heading)-run_y[k]*math.sin(heading))\n",
    "    run_east.append(run_x[k]*math.sin(heading)+run_y[k]*math.cos(heading))\n",
    "      \n",
    "# plotting\n",
    "plt.plot(run_east,run_north,color='black')\n",
    "plt.scatter(east_td,north_td,alpha=0.1)\n",
    "plt.xlabel('east [ft]')\n",
    "plt.xlabel('north [ft]')\n",
    "plt.axis('equal')\n",
    "plt.show()"
   ]
  },
  {
   "cell_type": "code",
   "execution_count": null,
   "metadata": {},
   "outputs": [],
   "source": []
  }
 ],
 "metadata": {
  "kernelspec": {
   "display_name": "Python 3",
   "language": "python",
   "name": "python3"
  },
  "language_info": {
   "codemirror_mode": {
    "name": "ipython",
    "version": 3
   },
   "file_extension": ".py",
   "mimetype": "text/x-python",
   "name": "python",
   "nbconvert_exporter": "python",
   "pygments_lexer": "ipython3",
   "version": "3.7.4"
  }
 },
 "nbformat": 4,
 "nbformat_minor": 2
}
