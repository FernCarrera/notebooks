{
 "cells": [
  {
   "cell_type": "markdown",
   "metadata": {},
   "source": [
    "### Quintic Polynomials defining pos,vel,accel"
   ]
  },
  {
   "cell_type": "markdown",
   "metadata": {},
   "source": [
    "Quintic polynomial trajectories:\n",
    "    given a set of points, you can use a cubic, and better yet\n",
    "    quintic polynomial to define the distance between two points.\n",
    "    Then this equation can be integrated to give vel, and accel\n",
    "    \n",
    "    note: quintic is better than cubic because it allows the user\n",
    "    to specify accel in each point to not produce accel \n",
    "    discontinuities aka inf jerk\n",
    "    \n",
    "    source: http://ttuadvancedrobotics.wikidot.com/trajectory-planning-for-point-to-point-motion"
   ]
  },
  {
   "cell_type": "code",
   "execution_count": 8,
   "metadata": {},
   "outputs": [],
   "source": [
    "from sympy import *\n",
    "import numpy as np"
   ]
  },
  {
   "cell_type": "code",
   "execution_count": 5,
   "metadata": {},
   "outputs": [
    {
     "data": {
      "text/latex": [
       "$\\displaystyle 20 a_{0} t^{3} + 12 a_{1} t^{2} + 6 a_{2} t + 2 a_{3}$"
      ],
      "text/plain": [
       "20*a_0*t**3 + 12*a_1*t**2 + 6*a_2*t + 2*a_3"
      ]
     },
     "execution_count": 5,
     "metadata": {},
     "output_type": "execute_result"
    }
   ],
   "source": [
    "a0,a1,a2,a3,a4,a5,t = symbols('a_0,a_1,a_2,a_3,a_4,a_5,t')\n",
    "pos = a0 * t**5 + a1 * t**4 + a2 * t**3 + a3 * t**2 + a4 * t + a5\n",
    "vel = diff(pos,t)\n",
    "accl = diff(vel,t)"
   ]
  },
  {
   "cell_type": "markdown",
   "metadata": {},
   "source": [
    "$$\\displaystyle pos = a_{0} t^{5} + a_{1} t^{4} + a_{2} t^{3} + a_{3} t^{2} + a_{4} t + a_{5}$$\n",
    "$$\\displaystyle vel = 5 a_{0} t^{4} + 4 a_{1} t^{3} + 3 a_{2} t^{2} + 2 a_{3} t + a_{4}$$\n",
    "$$\\displaystyle accel = 20 a_{0} t^{3} + 12 a_{1} t^{2} + 6 a_{2} t + 2 a_{3}$$"
   ]
  },
  {
   "cell_type": "markdown",
   "metadata": {},
   "source": [
    "### Trajectory generator Solve function is just the quintic equations writen as the system dynamics in form Ax=b"
   ]
  },
  {
   "cell_type": "code",
   "execution_count": 7,
   "metadata": {},
   "outputs": [],
   "source": [
    "T = symbols('T')\n",
    "A = Matrix([[0,0,0,0,0,1],\n",
    "            [T**5,T**4,T**3,T**2,T,1],\n",
    "            [0,0,0,0,1,0],\n",
    "            [5*T**4,4*T**3,3*T**2,2*T,1,1],\n",
    "            [0,0,0,2,0,0],\n",
    "            [20*T**3,12*T**2,6*T,2,0,1]])\n"
   ]
  },
  {
   "cell_type": "markdown",
   "metadata": {},
   "source": [
    "$$\\displaystyle A= \\left[\\begin{matrix}0 & 0 & 0 & 0 & 0 & 1\\\\T^{5} & T^{4} & T^{3} & T^{2} & T & 1\\\\0 & 0 & 0 & 0 & 1 & 0\\\\5 T^{4} & 4 T^{3} & 3 T^{2} & 2 T & 1 & 1\\\\0 & 0 & 0 & 2 & 0 & 0\\\\20 T^{3} & 12 T^{2} & 6 T & 2 & 0 & 1\\end{matrix}\\right]$$\n",
    "\n",
    "and b for each x,y,z = [start_pos,fin_pos,start_vel,fin_vel,start_accl,fin_accl]"
   ]
  },
  {
   "cell_type": "code",
   "execution_count": 9,
   "metadata": {},
   "outputs": [],
   "source": [
    "# commands are calculated using \n",
    "#x_com = np.linalg.solve(A,b)"
   ]
  },
  {
   "cell_type": "code",
   "execution_count": null,
   "metadata": {},
   "outputs": [],
   "source": []
  }
 ],
 "metadata": {
  "kernelspec": {
   "display_name": "Python 3",
   "language": "python",
   "name": "python3"
  },
  "language_info": {
   "codemirror_mode": {
    "name": "ipython",
    "version": 3
   },
   "file_extension": ".py",
   "mimetype": "text/x-python",
   "name": "python",
   "nbconvert_exporter": "python",
   "pygments_lexer": "ipython3",
   "version": "3.7.4"
  }
 },
 "nbformat": 4,
 "nbformat_minor": 2
}
