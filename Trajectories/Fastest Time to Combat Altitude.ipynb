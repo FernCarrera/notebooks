{
 "cells": [
  {
   "cell_type": "markdown",
   "metadata": {},
   "source": [
    "Find climb and acceleration profile that yields the fastest time to reach:\n",
    "    - a Combat altitude of 10km\n",
    "    - mach 2.0\n",
    "Start at sea-level alt & mach 0.4\n",
    "Lift coefficient cannot exceed 0.7"
   ]
  },
  {
   "cell_type": "code",
   "execution_count": 14,
   "metadata": {},
   "outputs": [],
   "source": [
    "import numpy as np\n",
    "import matplotlib.pyplot as plt"
   ]
  },
  {
   "cell_type": "code",
   "execution_count": 15,
   "metadata": {},
   "outputs": [],
   "source": [
    "# plotting functions\n",
    "def plot(M,alt):\n",
    "    plt.plot(M,alt)\n",
    "    plt.xlabel('Mach')\n",
    "    plt.ylabel('Altitude [m]')\n",
    "    plt.show()"
   ]
  },
  {
   "cell_type": "code",
   "execution_count": 18,
   "metadata": {},
   "outputs": [],
   "source": [
    "# Geometry, Aerodynamics and Thrust\n",
    "m = 12000 # mass[kg]\n",
    "S = 29 # wing refernce area [m^2]\n",
    "g = 9.81\n",
    "w = g*m\n",
    "\n",
    "\n",
    "def Cl(state,rho):\n",
    "    \n",
    "    \n",
    "    return 2*w*np.cos(state['gamma'])/(rho*state['v']**2*S)\n",
    "\n",
    "\n",
    "\n",
    "def Drag(state,rho,M):\n",
    "    CL = Cl(state,rho)\n",
    "    \"\"\"Calculates the drag coefficient\"\"\"\n",
    "    cd0 = 0.04 + 0.02*np.tanh(5.0*(M-0.95))\n",
    "    k = 0.7 + 0.2*np.tanh(5.0*(M-0.95))\n",
    "    CD =cd0 + k*CL**2\n",
    "    return 0.5*rho*state['v']**2*CD\n",
    "\n",
    "def thrust(M,h,type = 'MIl'):\n",
    "    \"\"\"returns thrust in [N]\"\"\"\n",
    "    if type == 'Mil':\n",
    "        thrust = 78.7 + 13.3*M - 6.3*h + 0.13*h**2 + \\\n",
    "        7.3*M**2 - h*M\n",
    "        \n",
    "    if type == 'Aft':\n",
    "        thrust = 109.8 + 38.8*M - 11.3*h + 0.43*h**2 + \\\n",
    "        47.7*M**2 - 7.2*h*M\n",
    "        \n",
    "    return thrust*1000"
   ]
  },
  {
   "cell_type": "code",
   "execution_count": 11,
   "metadata": {},
   "outputs": [],
   "source": [
    "# Standard Atmosphere\n",
    "rho_SL = 1.225 # [kg/m^3]\n",
    "temp_SL = 288.16 # [k]\n",
    "a = -0.0065 # lapse rate[k/m]\n",
    "R = 287 # [J/kg/k]\n",
    "sos = np.sqrt(1.4*R*temp)\n",
    "\n",
    "def std_atm(alt):\n",
    "    temp = temp_SL + a*alt\n",
    "    dens = rho_SL*(temp/temp_SL)**(1.0 + g/a/R)\n",
    "    sos = np.sqrt(1.4*R*temp)\n",
    "    \n",
    "    return dens,sos"
   ]
  },
  {
   "cell_type": "code",
   "execution_count": 20,
   "metadata": {},
   "outputs": [],
   "source": [
    "# Initial Conditions\n",
    "alt = 0\n",
    "rho,sos = std_atm(alt)\n",
    "v = 0.4*sos # [m/s]\n",
    "gamma = 0 # flight path angle [rad]\n",
    "state = {'alt':alt,'v':v,'gamma':gamma}\n",
    "\n"
   ]
  },
  {
   "cell_type": "code",
   "execution_count": 22,
   "metadata": {},
   "outputs": [],
   "source": [
    "def accel(M,alt,goal=0.8):\n",
    "    \"\"\"Returns flight angle command and\n",
    "        if vehicle has reached goal state\"\"\"\n",
    "    gamma_cmd = 0\n",
    "    complete = False\n",
    "    if (M > goal):\n",
    "        complete = True\n",
    "    return gamma_cmd,complete\n",
    "\n",
    "def climb(M,alt,goal,gamma_cmd):\n",
    "    gamma_cmd = gamma_cmd\n",
    "    complete = False\n",
    "    if(alt > goal):\n",
    "        complete = True\n",
    "    return gamma_cmd,complete\n",
    "    "
   ]
  },
  {
   "cell_type": "code",
   "execution_count": 23,
   "metadata": {},
   "outputs": [],
   "source": [
    "# Mission Definition\n",
    "#multi_stage = {0:accel1,1:climb1,2:dive,3:climb2,4:accel2}\n",
    "#single_state = {0:accel1,1:climb1,2:accel2}"
   ]
  },
  {
   "cell_type": "code",
   "execution_count": null,
   "metadata": {},
   "outputs": [],
   "source": [
    "flight_phase = 0\n",
    "time = 0\n",
    "dt = 0.5\n",
    "\n",
    "Ms = []\n",
    "hs = []\n",
    "gs = []\n",
    "\n",
    "# fastest 0.4 to \n",
    "\n",
    "\n",
    "while flight_phase < len(phases):\n",
    "    hs.append(alt)\n",
    "    times.append(time)\n",
    "    Ms.append(v/sos)\n",
    "    gamma,next_phase = phases[flight_phase]()"
   ]
  }
 ],
 "metadata": {
  "kernelspec": {
   "display_name": "Python 3",
   "language": "python",
   "name": "python3"
  },
  "language_info": {
   "codemirror_mode": {
    "name": "ipython",
    "version": 3
   },
   "file_extension": ".py",
   "mimetype": "text/x-python",
   "name": "python",
   "nbconvert_exporter": "python",
   "pygments_lexer": "ipython3",
   "version": "3.7.4"
  }
 },
 "nbformat": 4,
 "nbformat_minor": 2
}
