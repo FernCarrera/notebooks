{
 "cells": [
  {
   "cell_type": "markdown",
   "metadata": {},
   "source": [
    "The covariance matrix **P** contains:\n",
    "   - the computed variances and covariances for each of the state variables\n",
    "   - the diagonal contains the variance\n",
    "   - 99% of all the measurements fall within 3std if the noise is gaussian\n",
    "   \n",
    "We can evaluate the filter by looking at the residuals between the estimated state and actual state & comparing them to the standard deviations which are derived from **P**.\n",
    "   - The filter is performing correctly if 99% of the residuals fall within 3std. This is true for all state variables.\n",
    "   - That approach however, is really only true for simulations. since real sensors are not truly gaussian, expect the measurements to be around 5std\n",
    "   \n",
    "**This is a good measure for performance because**:\n",
    "   - in an idealized scenario a perfect sensor and filter would have a residual of 0, so the closer we get to that the better\n",
    "   \n",
    "Its important to understand that the covariance matrix **P** is only reporting the $theoretical$ performance of the filter assuming all the inputs are correct.\n",
    "\n",
    "So the **P** matrix could be implying that the estimates are getting better and better because of a decrease in variance, while it is actually diverging.\n",
    "\n",
    "**For best performance its best to select the filter's order to match the system's order**"
   ]
  },
  {
   "cell_type": "markdown",
   "metadata": {},
   "source": [
    "### Occasions when a first order system is better than a second order system\n",
    "\n",
    "In the case of tracking a car's position, for example, if the vehicle is not doing any dynamic movements like turning - and is just traveling in a straight line a first order filter will probably out-perform a second-order filter. \n",
    "\n",
    "**The reason for this is**: \n",
    "- that a first-order system does not expect any changes in acceleration brought on by turns, so it functions directly as it is intended to.\n",
    "\n",
    "- a second-order filter however, is expecting to see changes in acceleration, so it mistakes system and sensor noise as changes in acceleration and makes errors in estimating velocity which then affects position estimates.\n",
    "\n",
    "If the vehicle starts turning then we assuime the second-order filter to outperform the first-order one, this is the main idea behind adaptive filtering."
   ]
  },
  {
   "cell_type": "markdown",
   "metadata": {},
   "source": [
    "### Gating\n",
    "\n",
    "We can also throw away measurements that are obviously incorrect. If you receive a measurement that is 100std from your current position you can safely say its incorrect. But how to account for this in actual practice?\n",
    "\n",
    "A good way of doing it is using the **Mahalanobis distance** and see if that distance is withing 3std of the position. \n",
    "\n",
    "There's different gates, like a maneuver gate which changes what measurements it accepts depending on the current dynamics of the system. \n",
    "\n",
    "Gates could also be computationally expensive, esp the one utilizing the mahalanobis distance. A rectangular gate for example - the residual of the prior and the measuremnt - is fairly cheap but very heavy handed and sometimes in accurate. \n",
    "- could take a two step gate approach and use a rectangle gate to get rid of the bulk then use an elliptical gate (the std dev with mahal dist one) for the more sensitive data\n"
   ]
  },
  {
   "cell_type": "markdown",
   "metadata": {},
   "source": [
    "### Evaluating filter performance"
   ]
  },
  {
   "cell_type": "code",
   "execution_count": null,
   "metadata": {},
   "outputs": [],
   "source": []
  }
 ],
 "metadata": {
  "kernelspec": {
   "display_name": "Python 3",
   "language": "python",
   "name": "python3"
  },
  "language_info": {
   "codemirror_mode": {
    "name": "ipython",
    "version": 3
   },
   "file_extension": ".py",
   "mimetype": "text/x-python",
   "name": "python",
   "nbconvert_exporter": "python",
   "pygments_lexer": "ipython3",
   "version": "3.7.4"
  }
 },
 "nbformat": 4,
 "nbformat_minor": 2
}
