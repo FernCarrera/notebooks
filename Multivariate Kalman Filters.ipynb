{
 "cells": [
  {
   "cell_type": "code",
   "execution_count": 14,
   "metadata": {},
   "outputs": [],
   "source": [
    "import sympy\n",
    "x0,x,v,v0,t,x0 = sympy.symbols('x_0 x v v_0 t x_0')"
   ]
  },
  {
   "cell_type": "markdown",
   "metadata": {},
   "source": [
    "### Quick note on mutivariate gaussians\n",
    "    - Mutivariate gaussians express the correlation between multiple random variables, such as position and velocity of a vehicle.\n",
    "    - Correlation between variables drastically improves the posterior.\n",
    "        - if you roughly know position and velocity, BUT they are correlated, then the estimate can be very accurate."
   ]
  },
  {
   "cell_type": "markdown",
   "metadata": {},
   "source": [
    "## For Newtonian Systems"
   ]
  },
  {
   "cell_type": "markdown",
   "metadata": {},
   "source": [
    "You can describe the system using Newton's equations of motion.\n",
    "Specifically:\n",
    "    $$x = vt + x_0$$\n",
    "    \n",
    "Incorporating acceleration we get:\n",
    "\n",
    "$$x = \\frac{1}{2}at^2 + v_0t + x_0$$\n",
    "\n",
    "And Assuming jerk we get:\n",
    "\n",
    "$$x = \\frac{1}{6}jt^3 + \\frac{1}{2}a_0t^2 + v_0t + x_0$$\n",
    "\n",
    "These equations come from solving a differential equation"
   ]
  },
  {
   "cell_type": "markdown",
   "metadata": {},
   "source": [
    "## Kalman Filter algorithm"
   ]
  },
  {
   "cell_type": "markdown",
   "metadata": {},
   "source": [
    "#### Initialization\n",
    "    1. initialize the state of the filter\n",
    "    2. initialize our belief in the system\n",
    "    \n",
    "#### Predict\n",
    "    1. use the process model to predict the state at next dt\n",
    "    2. Adjust belief to account for uncertainty in prediction\n",
    "\n",
    "#### Update\n",
    "    1. get a measurement/ belief in its accuracy\n",
    "    2. compute residual between state and measurement\n",
    "    3. compute scaling factor to weigh prediction and measure\n",
    "    4. set state based of this scaling factor\n",
    "    5. update belief based on how certain we are in the measurement\n",
    "    \n"
   ]
  },
  {
   "cell_type": "markdown",
   "metadata": {},
   "source": [
    "## Kalman Filter Equations"
   ]
  },
  {
   "cell_type": "markdown",
   "metadata": {},
   "source": [
    "Predict\n",
    "    Multivariate\n",
    "$$\\bar x = Fx + Bu$$\n",
    "$$\\bar P = FPF^T + Q$$\n",
    "\n",
    "x,P: are the state mean and covariance\n",
    "F: State transition function. When multiplied by x it computes the prior\n",
    "Q: process covariance\n",
    "B,u: used to model the control system\n",
    "\n",
    "Update\n",
    "\n",
    "$$y = z - H\\bar x$$\n",
    "$$K = \\bar P H^T(H\\bar P H^T + R)^-1$$\n",
    "$$x = \\bar x + Ky$$\n",
    "$$P = (I - KH)\\bar P$$\n",
    "\n",
    "H: is the measurement function\n",
    "\n",
    "z,R: measurement mean and noise covariance\n",
    "\n",
    "y,K: residual and kalman gain"
   ]
  },
  {
   "cell_type": "markdown",
   "metadata": {},
   "source": [
    "## From System Dynamics Matrix (A) to State Transition Matrix (F)\n",
    "\n",
    "\n",
    "The laplace transform in the form of:\n",
    "$$ \\Phi(t) = \\mathcal{L}^{-1}[(s\\mathbf{I} - \\mathbf{A})^{-1}]$$\n",
    "\n",
    "\n",
    "\n",
    "Can also use the matrix exponential method, which utilizes a taylor series approximation to compute the state transition matrix.This method is for time-invariant systems, however if the rate of change of the system is small, a small enough time step should still provide an accurate approximation. \n",
    "\n",
    "Or use a generalized ode solver, turn A into differential equations and use numerical techniques.\n",
    "\n"
   ]
  },
  {
   "cell_type": "markdown",
   "metadata": {},
   "source": [
    "### Numerical Method for finding F and Q"
   ]
  },
  {
   "cell_type": "markdown",
   "metadata": {},
   "source": [
    "van Loan's method\n",
    "\n",
    "Given a continous model:\n",
    "$$\\dot x = Ax + Gw$$\n",
    "\n",
    "assuming $w$ is unity white noise, you can use this method. The method is implemented in filterpy.common under van_loan_discretization"
   ]
  },
  {
   "cell_type": "markdown",
   "metadata": {},
   "source": [
    "## Modeling Process noise Q "
   ]
  },
  {
   "cell_type": "markdown",
   "metadata": {},
   "source": [
    "### Continous white noise\n",
    "We can assume continous unity white noise and discretize it to calculate Q, which defines how much noise is added to our system over a time step. Given F, the state transition matrix, we can project the continous noise model onto F based on the instant time t.\n",
    "\n",
    "$$\\mathbf Q = \\int_0^{\\Delta t} \\mathbf F(t)\\mathbf{Q_c}\\mathbf F^\\mathsf{T}(t) dt$$\n",
    "\n",
    "and we define $$Q_c$$ as a matrix times the spectral density of the white noise."
   ]
  },
  {
   "cell_type": "code",
   "execution_count": 19,
   "metadata": {},
   "outputs": [
    {
     "data": {
      "text/latex": [
       "$\\displaystyle \\left[\\begin{matrix}\\frac{\\Delta{t}^{5}}{20} & \\frac{\\Delta{t}^{4}}{8} & \\frac{\\Delta{t}^{3}}{6}\\\\\\frac{\\Delta{t}^{4}}{8} & \\frac{\\Delta{t}^{3}}{3} & \\frac{\\Delta{t}^{2}}{2}\\\\\\frac{\\Delta{t}^{3}}{6} & \\frac{\\Delta{t}^{2}}{2} & \\Delta{t}\\end{matrix}\\right] \\Phi_s$"
      ],
      "text/plain": [
       "⎡         5           4           3⎤      \n",
       "⎢\\Delta{t}   \\Delta{t}   \\Delta{t} ⎥      \n",
       "⎢──────────  ──────────  ──────────⎥      \n",
       "⎢    20          8           6     ⎥      \n",
       "⎢                                  ⎥      \n",
       "⎢         4           3           2⎥      \n",
       "⎢\\Delta{t}   \\Delta{t}   \\Delta{t} ⎥      \n",
       "⎢──────────  ──────────  ──────────⎥⋅\\Phiₛ\n",
       "⎢    8           3           2     ⎥      \n",
       "⎢                                  ⎥      \n",
       "⎢         3           2            ⎥      \n",
       "⎢\\Delta{t}   \\Delta{t}             ⎥      \n",
       "⎢──────────  ──────────  \\Delta{t} ⎥      \n",
       "⎣    6           2                 ⎦      "
      ]
     },
     "execution_count": 19,
     "metadata": {},
     "output_type": "execute_result"
    }
   ],
   "source": [
    "from sympy import (init_printing, Matrix, MatMul, \n",
    "                   integrate, symbols)\n",
    "\n",
    "init_printing(use_latex='mathjax')\n",
    "dt, phi = symbols('\\Delta{t} \\Phi_s')\n",
    "F_k = Matrix([[1, dt, dt**2/2],\n",
    "              [0,  1,      dt],\n",
    "              [0,  0,       1]])\n",
    "Q_c = Matrix([[0, 0, 0],\n",
    "              [0, 0, 0],\n",
    "              [0, 0, 1]])*phi\n",
    "\n",
    "Q = integrate(F_k * Q_c * F_k.T, (dt, 0, dt))\n",
    "\n",
    "# factor phi out of the matrix to make it more readable\n",
    "Q = Q / phi\n",
    "MatMul(Q, phi)"
   ]
  },
  {
   "cell_type": "markdown",
   "metadata": {},
   "source": [
    "The above method requires us to know the spectral density, but we can use a piece-wise noise model that selects noise in an uncorrelated fashion. Advantages is that you just need to derive the 'noise gain' matrix and can use variance to model the system in terms of motion and noise we expect"
   ]
  },
  {
   "cell_type": "markdown",
   "metadata": {},
   "source": [
    "## Piece-wise method"
   ]
  },
  {
   "cell_type": "markdown",
   "metadata": {},
   "source": [
    "If youre modeling position and velocity for example, you can propagate the noise based on your system model. so change in velocity and position is:\n",
    "\n",
    "$$delta_v = w(t)*\\delta t$$\n",
    "and \n",
    "$$delta_p = w(t)\\delta \\frac{t^2}{2}$$\n",
    "\n",
    "put this in a matrix gamma and project it by the variance.\n",
    "\n",
    "Here's an example for a second order system :"
   ]
  },
  {
   "cell_type": "code",
   "execution_count": 20,
   "metadata": {},
   "outputs": [
    {
     "data": {
      "text/latex": [
       "$\\displaystyle \\left[\\begin{matrix}\\frac{\\Delta{t}^{4}}{4} & \\frac{\\Delta{t}^{3}}{2} & \\frac{\\Delta{t}^{2}}{2}\\\\\\frac{\\Delta{t}^{3}}{2} & \\Delta{t}^{2} & \\Delta{t}\\\\\\frac{\\Delta{t}^{2}}{2} & \\Delta{t} & 1\\end{matrix}\\right] \\sigma^{2}_{v}$"
      ],
      "text/plain": [
       "⎡         4           3           2⎤    \n",
       "⎢\\Delta{t}   \\Delta{t}   \\Delta{t} ⎥    \n",
       "⎢──────────  ──────────  ──────────⎥    \n",
       "⎢    4           2           2     ⎥    \n",
       "⎢                                  ⎥    \n",
       "⎢         3                        ⎥    \n",
       "⎢\\Delta{t}            2            ⎥    \n",
       "⎢──────────  \\Delta{t}   \\Delta{t} ⎥⋅σ²ᵥ\n",
       "⎢    2                             ⎥    \n",
       "⎢                                  ⎥    \n",
       "⎢         2                        ⎥    \n",
       "⎢\\Delta{t}                         ⎥    \n",
       "⎢──────────  \\Delta{t}       1     ⎥    \n",
       "⎣    2                             ⎦    "
      ]
     },
     "execution_count": 20,
     "metadata": {},
     "output_type": "execute_result"
    }
   ],
   "source": [
    "var = symbols('sigma^2_v')\n",
    "v = Matrix([[dt**2 / 2], [dt], [1]])\n",
    "\n",
    "Q = v * var * v.T\n",
    "\n",
    "# factor variance out of the matrix to make it more readable\n",
    "Q = Q / var\n",
    "MatMul(Q, var)"
   ]
  },
  {
   "cell_type": "markdown",
   "metadata": {},
   "source": [
    "## Runge-Kutta implementation"
   ]
  },
  {
   "cell_type": "code",
   "execution_count": 21,
   "metadata": {},
   "outputs": [],
   "source": [
    "def runge_kutta4(y, x, dx, f):\n",
    "    \"\"\"computes 4th order Runge-Kutta for dy/dx.\n",
    "    y is the initial value for y\n",
    "    x is the initial value for x\n",
    "    dx is the difference in x (e.g. the time step)\n",
    "    f is a callable function (y, x) that you supply \n",
    "    to compute dy/dx for the specified values.\n",
    "    \"\"\"\n",
    "    \n",
    "    k1 = dx * f(y, x)\n",
    "    k2 = dx * f(y + 0.5*k1, x + 0.5*dx)\n",
    "    k3 = dx * f(y + 0.5*k2, x + 0.5*dx)\n",
    "    k4 = dx * f(y + k3, x + dx)\n",
    "    \n",
    "    return y + (k1 + 2*k2 + 2*k3 + k4) / 6."
   ]
  },
  {
   "cell_type": "code",
   "execution_count": null,
   "metadata": {},
   "outputs": [],
   "source": []
  }
 ],
 "metadata": {
  "kernelspec": {
   "display_name": "Python 3",
   "language": "python",
   "name": "python3"
  },
  "language_info": {
   "codemirror_mode": {
    "name": "ipython",
    "version": 3
   },
   "file_extension": ".py",
   "mimetype": "text/x-python",
   "name": "python",
   "nbconvert_exporter": "python",
   "pygments_lexer": "ipython3",
   "version": "3.7.4"
  }
 },
 "nbformat": 4,
 "nbformat_minor": 2
}
