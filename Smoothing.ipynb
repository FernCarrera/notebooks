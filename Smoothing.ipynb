{
 "cells": [
  {
   "cell_type": "markdown",
   "metadata": {},
   "source": [
    "## How Smoothers Work\n",
    "\n",
    "Don't confuse a kalman smoother for a low-pass filter type of smoothing.A kalman filter is an optimal fitler as it uses all the available information, a low-pass filter will be less accurate because it will remove important variations in the signal just as much as it removes noise.\n",
    "\n",
    "- The Kalman Filter is a recursive filter with a Markov property, so all of its estimates are based on the previous estimate **k-1** and the current measurement **k**. So **k-1** has more influence than the **k-2** step and so on\n",
    "\n",
    "- Smoothing filters incorporaste future measurements into the estimate for step **k**, and the measurement from **k+1** will have more influence than the **k+2** step and so on\n"
   ]
  },
  {
   "cell_type": "markdown",
   "metadata": {},
   "source": [
    "## Types of Smoothers\n",
    "\n",
    "- **Fixed-Interval Smoother**\n",
    "\n",
    "    - Batch Filter\n",
    "    - Useful when all data has been collected\n",
    "    - Better results compared to the recursive filter when you have access to the complete data\n",
    "\n",
    "- **Fixed-lag Smoothing**\n",
    "\n",
    "    - Filter waits for a specific # of measurements before computing the estimate for the first filtered result, then continues this pattern for subsequent measurements. \n",
    "    - Introduces latency process- so useful when you're willing to trade output time for accuracy and smoothness. \n",
    "    \n",
    "- **Fixed-Point Smooothing**\n",
    "\n",
    "    - Works like a normal kalman filter until it reaches a specific point **j**, then the filter updates the estimate at X_j based on the measurements between j & k.\n",
    "    - Used to estimate the initial parameters of a system,, for producing the best estimate for an event that happened at a specific time, or estimating pose information."
   ]
  },
  {
   "cell_type": "markdown",
   "metadata": {},
   "source": [
    "## RTS - A Fixed-Interval Smoother\n",
    "- Invented by Rauch,Tung, and Stribel"
   ]
  },
  {
   "cell_type": "markdown",
   "metadata": {},
   "source": [
    "The RTS filter works by running the filter directly normally, then the filter runs backwards taking into account the convariance matrices from the first pass to update the estimates - now with knowledge of future measurements - and come up the maximal optimal estimate."
   ]
  },
  {
   "cell_type": "markdown",
   "metadata": {},
   "source": [
    "### RTS - Algorithm Equation"
   ]
  },
  {
   "cell_type": "markdown",
   "metadata": {},
   "source": [
    "    Predict Step\n",
    "    \n",
    "$$\\begin{aligned}\n",
    "\\mathbf{P} &= \\mathbf{FP}_k\\mathbf{F}^\\mathsf{T} + \\mathbf{Q }\n",
    "\\end{aligned}$$\n",
    "\n",
    "Basic predict multiplying the transition matrix with the state at K then mult times transpose of transition matrix then add noise\n",
    "\n",
    "    Update Step\n",
    "    \n",
    "$$\\begin{aligned}\n",
    "\\mathbf{K}_k &= \\mathbf{P}_k\\mathbf{F}^\\mathsf{T}\\mathbf{P}^{-1} \\\\\n",
    "\\mathbf{x}_k &= \\mathbf{x}_k + \\mathbf{K}_k(\\mathbf{x}_{k+1} - \\mathbf{Fx}_k) \\\\\n",
    "\\mathbf{P}_k &= \\mathbf{P}_k + \\mathbf{K}_k(\\mathbf{P}_{k+1} - \\mathbf{P})\\mathbf{K}_k^\\mathsf{T}\n",
    "\\end{aligned}$$\n",
    "\n",
    "    - Calculate kalman gain\n",
    "    - State @ k is equal to the state at k + the kalman gain multiplied by the residual of the state at k+1 and transition matrix times the current state. Its analogous to comparing a predicted estimate to a measurement then using the kalman gain to pick the optimal solution.\n",
    "    - The prediction follows similar logic to updating the state, just multiplied by a kalman gain transpose."
   ]
  },
  {
   "cell_type": "code",
   "execution_count": 18,
   "metadata": {},
   "outputs": [
    {
     "data": {
      "image/png": "[encoded data removed]",
      "text/plain": [
       "<Figure size 432x288 with 1 Axes>"
      ]
     },
     "metadata": {
      "needs_background": "light"
     },
     "output_type": "display_data"
    }
   ],
   "source": [
    "import numpy as np\n",
    "from numpy import random\n",
    "from numpy.random import randn\n",
    "import matplotlib.pyplot as plt\n",
    "from filterpy.kalman import KalmanFilter\n",
    "\n",
    "def plot_rts(noise, Q=0.001, show_velocity=False):\n",
    "    random.seed(123)\n",
    "    fk = KalmanFilter(dim_x=2, dim_z=1)\n",
    "\n",
    "    fk.x = np.array([0., 1.])      # state (x and dx)\n",
    "\n",
    "    fk.F = np.array([[1., 1.],\n",
    "                     [0., 1.]])    # state transition matrix\n",
    "\n",
    "    fk.H = np.array([[1., 0.]])    # Measurement function\n",
    "    fk.P = 10.                     # covariance matrix\n",
    "    fk.R = noise                   # state uncertainty\n",
    "    fk.Q = Q                       # process uncertainty\n",
    "\n",
    "    # create noisy data\n",
    "    zs = np.asarray([t + randn()*noise for t in range (40)])\n",
    "\n",
    "    # filter data with Kalman filter, than run smoother on it\n",
    "    mu, cov, _, _ = fk.batch_filter(zs)\n",
    "    M, P, C, _ = fk.rts_smoother(mu, cov)\n",
    "\n",
    "    # plot data\n",
    "    if show_velocity:\n",
    "        index = 1\n",
    "        print('gu')\n",
    "    else:\n",
    "        index = 0\n",
    "    points = [x for x in range(len(zs)) ]\n",
    "    plt.scatter(points,zs,label='measurements')\n",
    "    \n",
    "    plt.plot(M[:, index], c='b', label='RTS')\n",
    "    plt.plot(mu[:, index], c='g', ls='--', label='KF output')\n",
    "    if not show_velocity:\n",
    "        N = len(zs)\n",
    "        plt.plot([0, N], [0, N], 'k', lw=2, label='track') \n",
    "    plt.legend(loc=4)\n",
    "    plt.show()\n",
    "    \n",
    "plot_rts(7.)"
   ]
  },
  {
   "cell_type": "markdown",
   "metadata": {},
   "source": [
    "First run kalman filter on measurements, then use the mean and covariance values to run the RTS filter.\n",
    "\n",
    "The RTS is still taking the transition matrix into consideration, meaning it expects the system to behave linearly. If whatthe filter is attempting to measure does not behave this way, it will try to optimize to what the kF is estimating and the measurements. Meaning that the process model still needs to be correct or the filter will perform poorly"
   ]
  },
  {
   "cell_type": "code",
   "execution_count": null,
   "metadata": {},
   "outputs": [],
   "source": [
    "##"
   ]
  }
 ],
 "metadata": {
  "kernelspec": {
   "display_name": "Python 3",
   "language": "python",
   "name": "python3"
  },
  "language_info": {
   "codemirror_mode": {
    "name": "ipython",
    "version": 3
   },
   "file_extension": ".py",
   "mimetype": "text/x-python",
   "name": "python",
   "nbconvert_exporter": "python",
   "pygments_lexer": "ipython3",
   "version": "3.7.4"
  }
 },
 "nbformat": 4,
 "nbformat_minor": 2
}
